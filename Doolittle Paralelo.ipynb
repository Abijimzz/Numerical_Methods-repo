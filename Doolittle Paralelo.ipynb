{
 "cells": [
  {
   "cell_type": "code",
   "execution_count": 2,
   "id": "8337b18a",
   "metadata": {},
   "outputs": [],
   "source": [
    "import numpy as np\n",
    "import math\n",
    "import threading\n",
    "import time"
   ]
  },
  {
   "cell_type": "markdown",
   "id": "934b85cb",
   "metadata": {},
   "source": [
    "### Declaracion de variables"
   ]
  },
  {
   "cell_type": "code",
   "execution_count": 3,
   "id": "31dffae6",
   "metadata": {},
   "outputs": [
    {
     "name": "stdout",
     "output_type": "stream",
     "text": [
      "Orden de la matriz: 5\n",
      "Numero de vectores: 3\n"
     ]
    }
   ],
   "source": [
    "m=int(input(\"Orden de la matriz: \"))\n",
    "matriz=np.zeros([m,m]) #llenar todas los ceros que necesitemos\n",
    "u=np.zeros([m,m]) #matriz upper\n",
    "l=np.zeros([m,m]) #matriz lower\n",
    "v = int(input(\"Numero de vectores: \"))\n",
    "vectores = []\n",
    "x = np.zeros((m)) #vector sol\n",
    "y = np.zeros((m))"
   ]
  },
  {
   "cell_type": "markdown",
   "id": "fdbf9fd2",
   "metadata": {},
   "source": [
    "### Llenado de matrices"
   ]
  },
  {
   "cell_type": "code",
   "execution_count": 4,
   "id": "f1cf81e6",
   "metadata": {},
   "outputs": [
    {
     "name": "stdout",
     "output_type": "stream",
     "text": [
      "Introduce los elementos de la matriz\n",
      "Elemento a[1,1]-6\n",
      "Elemento a[1,2]3\n",
      "Elemento a[1,3]4\n",
      "Elemento a[1,4]-2\n",
      "Elemento a[1,5]-18\n",
      "Elemento a[2,1]-1\n",
      "Elemento a[2,2]12\n",
      "Elemento a[2,3]-3\n",
      "Elemento a[2,4]1\n",
      "Elemento a[2,5]2\n",
      "Elemento a[3,1]10\n",
      "Elemento a[3,2]2\n",
      "Elemento a[3,3]1\n",
      "Elemento a[3,4]-2\n",
      "Elemento a[3,5]-3\n",
      "Elemento a[4,1]3\n",
      "Elemento a[4,2]2\n",
      "Elemento a[4,3]1\n",
      "Elemento a[4,4]-10\n",
      "Elemento a[4,5]3\n",
      "Elemento a[5,1]1\n",
      "Elemento a[5,2]0\n",
      "Elemento a[5,3]6\n",
      "Elemento a[5,4]-1\n",
      "Elemento a[5,5]0.5\n",
      "Introduce los coeficientes de tus vectores\n",
      "\n",
      "Introduce los coeficientes del vector V[1]\n",
      "Elemento b[1]-148.7\n",
      "Elemento b[2]117.7\n",
      "Elemento b[3]-113.8\n",
      "Elemento b[4]-4.3\n",
      "Elemento b[5]-29\n",
      "Introduce los coeficientes del vector V[2]\n",
      "Elemento b[1]-12\n",
      "Elemento b[2]-102\n",
      "Elemento b[3]62\n",
      "Elemento b[4]-45\n",
      "Elemento b[5]-113.5\n",
      "Introduce los coeficientes del vector V[3]\n",
      "Elemento b[1]-223\n",
      "Elemento b[2]-63\n",
      "Elemento b[3]-3\n",
      "Elemento b[4]-52\n",
      "Elemento b[5]60.5\n",
      "Sistema a resolver\n",
      "\n",
      "[[ -6.    3.    4.   -2.  -18. ]\n",
      " [ -1.   12.   -3.    1.    2. ]\n",
      " [ 10.    2.    1.   -2.   -3. ]\n",
      " [  3.    2.    1.  -10.    3. ]\n",
      " [  1.    0.    6.   -1.    0.5]]\n",
      "[[-148.7  117.7 -113.8   -4.3  -29. ]\n",
      " [ -12.  -102.    62.   -45.  -113.5]\n",
      " [-223.   -63.    -3.   -52.    60.5]]\n"
     ]
    }
   ],
   "source": [
    "print(\"Introduce los elementos de la matriz\")\n",
    "for r in range(0,m): \n",
    "    for c in range(0,m):\n",
    "        matriz[r,c]=(input(\"Elemento a[\"+str(r+1)+\",\"+str(c+1)+\"]\"))\n",
    "\n",
    "        matriz[r,c]=float(matriz[r,c])\n",
    "        u[r,c]=matriz[r,c]\n",
    "print(\"Introduce los coeficientes de tus vectores\\n\")\n",
    "for r in range(v):\n",
    "    vectores.append([])\n",
    "    print(\"Introduce los coeficientes del vector V[\"+str(r+1)+\"]\")\n",
    "    for c in range(m):\n",
    "        b = float(input(\"Elemento b[\"+str(c+1)+\"]\"))\n",
    "        vectores[r].append(b)\n",
    "vector= np.asarray(vectores,dtype=float)\n",
    "print(\"Sistema a resolver\\n\")\n",
    "print(matriz)\n",
    "print(vector)"
   ]
  },
  {
   "cell_type": "code",
   "execution_count": 5,
   "id": "5a0ce84e",
   "metadata": {},
   "outputs": [
    {
     "data": {
      "text/plain": [
       "array([[-148.7,  -12. , -223. ],\n",
       "       [ 117.7, -102. ,  -63. ],\n",
       "       [-113.8,   62. ,   -3. ],\n",
       "       [  -4.3,  -45. ,  -52. ],\n",
       "       [ -29. , -113.5,   60.5]])"
      ]
     },
     "execution_count": 5,
     "metadata": {},
     "output_type": "execute_result"
    }
   ],
   "source": [
    "vectort = np.transpose(vector)\n",
    "vectort"
   ]
  },
  {
   "cell_type": "markdown",
   "id": "50c90a60",
   "metadata": {},
   "source": [
    "### Factorizacion LU"
   ]
  },
  {
   "cell_type": "code",
   "execution_count": 6,
   "id": "8c8f82ef",
   "metadata": {},
   "outputs": [
    {
     "name": "stdout",
     "output_type": "stream",
     "text": [
      "Matriz resultante\n",
      "Matriz L\n",
      "[[ 1.          0.          0.          0.          0.        ]\n",
      " [ 0.16666667  1.          0.          0.          0.        ]\n",
      " [-1.66666667  0.60869565  1.          0.          0.        ]\n",
      " [-0.5         0.30434783  0.41581259  1.          0.        ]\n",
      " [-0.16666667  0.04347826  0.68960469 -0.32158809  1.        ]]\n",
      "Matriz U\n",
      "[[ -6.           3.           4.          -2.         -18.        ]\n",
      " [  0.          11.5         -3.66666667   1.33333333   5.        ]\n",
      " [  0.           0.           9.89855072  -6.14492754 -36.04347826]\n",
      " [  0.           0.           0.          -8.85065886   7.46559297]\n",
      " [  0.           0.           0.           0.          24.53920596]]\n"
     ]
    }
   ],
   "source": [
    "for k in range(0,m): #pivote\n",
    "    for r in range (0,m): #renglones\n",
    "        if (k==r):\n",
    "            l[k,r]=1 #diagonal de unos\n",
    "        elif (k<r):\n",
    "            if (matriz[k,k]==0): #condicion extra para que no haya division sobre cero\n",
    "                l[r,c]=0\n",
    "            else:\n",
    "                factor=(matriz[r,k]/matriz[k,k])\n",
    "                l[r,k]=factor\n",
    "            for c in range(0,m):\n",
    "                matriz[r,c]=matriz[r,c]-(factor*matriz[k,c])\n",
    "                u[r,c]=matriz[r,c]\n",
    "print(\"Matriz resultante\")\n",
    "print(\"Matriz L\")\n",
    "print(l)\n",
    "print(\"Matriz U\")\n",
    "print(u)"
   ]
  },
  {
   "cell_type": "markdown",
   "id": "43eb2543",
   "metadata": {},
   "source": [
    "### Implementacion de paralelismo con hilos"
   ]
  },
  {
   "cell_type": "code",
   "execution_count": 7,
   "id": "f6ce9898",
   "metadata": {},
   "outputs": [],
   "source": [
    "def solucion(l,u,vector):\n",
    "    for columna in range(v):\n",
    "        global c\n",
    "        for r in range(m):\n",
    "            summ =0\n",
    "            for c in range(r):\n",
    "                summ += y[c]*l[r,c]\n",
    "            if(l[r,r]==0):\n",
    "                y[r]=0\n",
    "            else:\n",
    "                y[r] = (vector[r,columna]-summ)/l[r,r]\n",
    "        for r in range(m-1,-1,-1):\n",
    "            summ =0\n",
    "            for c in range(r+1,m):\n",
    "                summ += x[c]*u[r,c]\n",
    "            x[r]=(y[r]-summ)/u[r,r]\n",
    "        print(\"Solucion X=\")\n",
    "        print(x)"
   ]
  },
  {
   "cell_type": "code",
   "execution_count": 8,
   "id": "34e22995",
   "metadata": {},
   "outputs": [
    {
     "name": "stdout",
     "output_type": "stream",
     "text": [
      "Solucion X=\n",
      "[-8.5  6.1 -4.   2.  11. ]\n",
      "Solucion X=\n",
      "[  7.98855666 -11.3575548  -19.52769492   0.19713562  -8.25050307]\n",
      "Solucion X=\n",
      "[ 5. -5. 10. 10. 11.]\n",
      "CPU times: user 3.89 ms, sys: 0 ns, total: 3.89 ms\n",
      "Wall time: 3.84 ms\n"
     ]
    }
   ],
   "source": [
    "%%time\n",
    "threads = []\n",
    "hilo = threading.Thread(target=solucion, args=(l,u,vectort,))\n",
    "hilo.start()"
   ]
  },
  {
   "cell_type": "code",
   "execution_count": null,
   "id": "a5224d53",
   "metadata": {},
   "outputs": [],
   "source": []
  }
 ],
 "metadata": {
  "kernelspec": {
   "display_name": "Python 3 (ipykernel)",
   "language": "python",
   "name": "python3"
  },
  "language_info": {
   "codemirror_mode": {
    "name": "ipython",
    "version": 3
   },
   "file_extension": ".py",
   "mimetype": "text/x-python",
   "name": "python",
   "nbconvert_exporter": "python",
   "pygments_lexer": "ipython3",
   "version": "3.8.10"
  }
 },
 "nbformat": 4,
 "nbformat_minor": 5
}
